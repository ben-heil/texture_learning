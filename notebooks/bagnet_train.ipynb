{
 "cells": [
  {
   "cell_type": "markdown",
   "metadata": {},
   "source": [
    "# Bagnet Training\n",
    "This notebook trains a bagnet17 model on the plant dataset"
   ]
  },
  {
   "cell_type": "code",
   "execution_count": 1,
   "metadata": {},
   "outputs": [],
   "source": [
    "import time\n",
    "import os\n",
    "\n",
    "import bagnets.pytorchnet\n",
    "import numpy as np\n",
    "import pandas as pd\n",
    "from plotnine import *\n",
    "import sklearn.model_selection\n",
    "from sklearn.metrics import accuracy_score\n",
    "import torch\n",
    "import torch.nn as nn\n",
    "import torch.optim as optim\n",
    "from torch.optim import lr_scheduler\n",
    "from torch.autograd import Variable\n",
    "import torchvision\n",
    "from torchvision import datasets, models, transforms\n",
    "import torch.backends.cudnn as cudnn\n",
    "import tqdm"
   ]
  },
  {
   "cell_type": "code",
   "execution_count": 2,
   "metadata": {},
   "outputs": [],
   "source": [
    "seed = 42\n",
    "\n",
    "np.random.seed(seed)                                                                       \n",
    "torch.manual_seed(seed)                                                                    \n",
    "if torch.backends.cudnn.enabled:                                                                \n",
    "    torch.backends.cudnn.deterministic = True                                                   \n",
    "    torch.backends.cudnn.benchmark = False"
   ]
  },
  {
   "cell_type": "code",
   "execution_count": null,
   "metadata": {
    "colab": {
     "base_uri": "https://localhost:8080/",
     "height": 1000
    },
    "colab_type": "code",
    "id": "Us43K7RdEQW0",
    "outputId": "23673fc2-1819-4d72-f515-1228e72d4733"
   },
   "outputs": [
    {
     "data": {
      "application/vnd.jupyter.widget-view+json": {
       "model_id": "7fdf10264293453a86ef6df0deae6f03",
       "version_major": 2,
       "version_minor": 0
      },
      "text/plain": [
       "HBox(children=(IntProgress(value=0, max=50), HTML(value='')))"
      ]
     },
     "metadata": {},
     "output_type": "display_data"
    },
    {
     "data": {
      "application/vnd.jupyter.widget-view+json": {
       "model_id": "f513835b05474e6ebff1faa772cc74ca",
       "version_major": 2,
       "version_minor": 0
      },
      "text/plain": [
       "HBox(children=(IntProgress(value=0, max=268), HTML(value='')))"
      ]
     },
     "metadata": {},
     "output_type": "display_data"
    },
    {
     "name": "stdout",
     "output_type": "stream",
     "text": [
      "\n",
      "Epoch:\t0\tTrain Loss:\t548.6915876865387\tTune Loss:\t1468.51416015625\tTune Acc:\t0.12421052631578948\n"
     ]
    },
    {
     "data": {
      "application/vnd.jupyter.widget-view+json": {
       "model_id": "698fef2a4508447d8c3cdf316179a33d",
       "version_major": 2,
       "version_minor": 0
      },
      "text/plain": [
       "HBox(children=(IntProgress(value=0, max=268), HTML(value='')))"
      ]
     },
     "metadata": {},
     "output_type": "display_data"
    },
    {
     "name": "stdout",
     "output_type": "stream",
     "text": [
      "\n",
      "Epoch:\t1\tTrain Loss:\t402.03591734170914\tTune Loss:\t1301.36865234375\tTune Acc:\t0.14105263157894737\n"
     ]
    },
    {
     "data": {
      "application/vnd.jupyter.widget-view+json": {
       "model_id": "d5157b5ca4424d4597329a6398ec788a",
       "version_major": 2,
       "version_minor": 0
      },
      "text/plain": [
       "HBox(children=(IntProgress(value=0, max=268), HTML(value='')))"
      ]
     },
     "metadata": {},
     "output_type": "display_data"
    },
    {
     "name": "stdout",
     "output_type": "stream",
     "text": [
      "\n",
      "Epoch:\t2\tTrain Loss:\t315.882990449667\tTune Loss:\t1551.898193359375\tTune Acc:\t0.11578947368421053\n"
     ]
    },
    {
     "data": {
      "application/vnd.jupyter.widget-view+json": {
       "model_id": "cc5d1cb7cdab4355b2f82d13571ea9da",
       "version_major": 2,
       "version_minor": 0
      },
      "text/plain": [
       "HBox(children=(IntProgress(value=0, max=268), HTML(value='')))"
      ]
     },
     "metadata": {},
     "output_type": "display_data"
    }
   ],
   "source": [
    "data_dir = '../data/'\n",
    "\n",
    "data_transform = transforms.Compose([\n",
    "    transforms.Resize(255),\n",
    "    transforms.CenterCrop(224),\n",
    "    transforms.ToTensor(),\n",
    "    transforms.Normalize(mean=[0, 0, 0], std=[1, 1, 1])\n",
    "])\n",
    "\n",
    "image_dataset = datasets.ImageFolder(os.path.join(data_dir, \"train\"), transform = data_transform)\n",
    "\n",
    "train_indices, tune_indices = sklearn.model_selection.train_test_split(np.arange(len(image_dataset)), \n",
    "                                                                       test_size=.1, random_state=seed)\n",
    "\n",
    "train_data = torch.utils.data.Subset(image_dataset, train_indices)\n",
    "tune_data = torch.utils.data.Subset(image_dataset, tune_indices)\n",
    "\n",
    "train_dataloader = torch.utils.data.DataLoader(train_data, batch_size=16, shuffle=True)\n",
    "tune_dataloader = torch.utils.data.DataLoader(tune_data)\n",
    "\n",
    "dataset_size = len(image_dataset)\n",
    "class_names = image_dataset.classes\n",
    "\n",
    "device = torch.device(\"cuda\")\n",
    "\n",
    "model = bagnet.pytorchnet.bagnet17(num_classes = 12)\n",
    "\n",
    "criterion = nn.CrossEntropyLoss()\n",
    "criterion = criterion.cpu()\n",
    "optimizer = optim.Adam(model.parameters(), lr=0.01)\n",
    "\n",
    "model.to(device)\n",
    "overall_step = 0\n",
    "epochs = 50\n",
    "\n",
    "best_tune_loss = None\n",
    "tune_losses = []\n",
    "train_losses = []\n",
    "tune_accuracies = []\n",
    "\n",
    "for epoch in tqdm.tqdm_notebook(range(epochs)):  # loop over the dataset multiple times\n",
    "    train_loss = 0\n",
    "    tune_loss = 0\n",
    "    tune_correct = 0\n",
    "    for data in tqdm.tqdm_notebook(train_dataloader, total=len(train_dataloader)):\n",
    "        # get the inputs\n",
    "        inputs, labels = data\n",
    "        inputs = inputs.to(device)\n",
    "        labels = labels.to(device)\n",
    "\n",
    "        outputs = model(inputs)\n",
    "        loss = criterion(outputs, labels)\n",
    "        \n",
    "        optimizer.zero_grad()\n",
    "        loss.backward()\n",
    "        optimizer.step()\n",
    "\n",
    "        train_loss += loss.item()\n",
    "        \n",
    "    \n",
    "    for data in tune_dataloader:\n",
    "        with torch.no_grad():\n",
    "            inputs, labels = data\n",
    "            inputs = inputs.to(device)\n",
    "            labels = labels.to(device)\n",
    "\n",
    "            outputs = model(inputs)\n",
    "            predicted = torch.argmax(outputs.data, 1)\n",
    "            \n",
    "            tune_loss += criterion(outputs, labels)\n",
    "            tune_correct += accuracy_score(predicted.cpu(), labels.cpu(), normalize=False)\n",
    "    \n",
    "    tune_losses.append(tune_loss)\n",
    "    train_losses.append(train_loss)\n",
    "\n",
    "    accuracy = tune_correct / len(tune_data)\n",
    "    tune_accuracies.append(accuracy)\n",
    "    \n",
    "    print('Epoch:\\t{}\\tTrain Loss:\\t{}\\tTune Loss:\\t{}\\tTune Acc:\\t{}'.format(epoch, train_loss, \n",
    "                                                                              tune_loss, accuracy))\n",
    "            \n",
    "    # Save model\n",
    "    if best_tune_loss is None or tune_loss < best_tune_loss:\n",
    "        best_tune_loss = tune_loss\n",
    "        torch.save(model.state_dict(), '../results/trained_bagnet.pkl')"
   ]
  },
  {
   "cell_type": "code",
   "execution_count": null,
   "metadata": {},
   "outputs": [],
   "source": [
    "metrics = {'epochs': list(range(epochs)), 'tune_losses': tune_losses, 'train_losses': train_losses,\n",
    "          'tune_accuracies': tune_accuracies}\n",
    "metric_df = pd.DataFrame.from_dict(metrics)\n",
    "\n",
    "ggplot(metric_df, aes(x = 'epochs', y = 'tune_losses')) + geom_line() + ggtitle('Tune loss')"
   ]
  },
  {
   "cell_type": "code",
   "execution_count": null,
   "metadata": {},
   "outputs": [],
   "source": [
    "ggplot(metric_df, aes(x = 'epochs', y = 'train_losses')) + geom_line() + ggtitle('Train loss')"
   ]
  },
  {
   "cell_type": "code",
   "execution_count": null,
   "metadata": {},
   "outputs": [],
   "source": [
    "ggplot(metric_df, aes(x = 'epochs', y = 'tune_accuracies')) + geom_line() + ggtitle('Tune accuracy')"
   ]
  },
  {
   "cell_type": "code",
   "execution_count": null,
   "metadata": {},
   "outputs": [],
   "source": []
  }
 ],
 "metadata": {
  "colab": {
   "collapsed_sections": [],
   "name": "Untitled.ipynb",
   "provenance": []
  },
  "kernelspec": {
   "display_name": "texture",
   "language": "python",
   "name": "texture"
  },
  "language_info": {
   "codemirror_mode": {
    "name": "ipython",
    "version": 3
   },
   "file_extension": ".py",
   "mimetype": "text/x-python",
   "name": "python",
   "nbconvert_exporter": "python",
   "pygments_lexer": "ipython3",
   "version": "3.7.5"
  }
 },
 "nbformat": 4,
 "nbformat_minor": 1
}
